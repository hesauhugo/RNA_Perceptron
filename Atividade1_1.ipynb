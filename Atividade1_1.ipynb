{
 "cells": [
  {
   "attachments": {
    "image.png": {
     "image/png": "[encoded data removed]"
    }
   },
   "cell_type": "markdown",
   "metadata": {},
   "source": [
    "# Atividade 1.1\n",
    "\n",
    "Classificação de padrões, conforme tabela abaixo: \n",
    "\n",
    "![image.png](attachment:image.png)"
   ]
  },
  {
   "cell_type": "markdown",
   "metadata": {},
   "source": [
    "## Algoritmo"
   ]
  },
  {
   "cell_type": "code",
   "execution_count": 1,
   "metadata": {
    "dotnet_interactive": {
     "language": "csharp"
    },
    "polyglot_notebook": {
     "kernelName": "csharp"
    },
    "vscode": {
     "languageId": "polyglot-notebook"
    }
   },
   "outputs": [],
   "source": [
    "\n",
    "public (double[] _w, double _theta) Perceptron(int n_iteracoes, int[][] ordem, double[] w ,double delta, double alpha, double theta,double[,] x, int n_linha, int n_colunas,double[] d){\n",
    "    \n",
    "    // lembrando que c# começa em zero por isso a variável c para corrigir o índice\n",
    "    int c = 1;\n",
    "\n",
    "    //Váriaveis necessárias para cálculo da atualização\n",
    "    double yEstrela =0;\n",
    "    double y=0;\n",
    "\n",
    "    //Critério de parada número de iterações\n",
    "    for(int i=0;i<n_iteracoes;i++){\n",
    "        \n",
    "        Console.WriteLine($\"Iteração:{i+c}\");\n",
    "\n",
    "        //loop nas linhas ou seja em cada entrada\n",
    "        foreach(var linha in ordem[i]){\n",
    "                  \n",
    "            Console.WriteLine($\"Entrada:{linha}\");\n",
    "\n",
    "            //zerando variáveis\n",
    "            yEstrela=0;\n",
    "            y=0;\n",
    "\n",
    "            //calculando somatório das variáveis da entrada\n",
    "            for(int coluna=0;coluna<n_colunas;coluna++){\n",
    "                Console.WriteLine($\"x_{linha-c}_{coluna}:{x[linha-c,coluna]}, w_{coluna}:{w[coluna]}\");\n",
    "                yEstrela += x[linha-c,coluna]*w[coluna];\n",
    "            }\n",
    "\n",
    "            //adicionando theta ao somatório\n",
    "            yEstrela = yEstrela + theta;\n",
    "            Console.WriteLine($\"yEstrela:{yEstrela}\");\n",
    "\n",
    "            //verificando y* e atualizando y (função de ativação)\n",
    "            if(yEstrela>delta){\n",
    "                y=1;\n",
    "            }else if(yEstrela<(-1)*delta){\n",
    "                y=-1;\n",
    "            }else{\n",
    "                y=0;\n",
    "            }\n",
    "\n",
    "            Console.WriteLine($\"y:{y}, d:{d[linha-c]}\");\n",
    "            //atualizando peso e tendencia apenas se y for diferente de d\n",
    "            if(y!=d[linha-c]){\n",
    "\n",
    "                for(int coluna=0;coluna<n_colunas;coluna++){\n",
    "                    w[coluna] = w[coluna]+alpha*d[linha-c]*x[linha-c,coluna];\n",
    "                    Console.WriteLine($\"w_{coluna}:{w[coluna]}\");\n",
    "                }   \n",
    "                theta = theta + alpha*d[linha-c];\n",
    "                Console.WriteLine($\"theta:{theta}\");\n",
    "            }\n",
    "\n",
    "            \n",
    "        }\n",
    "    }\n",
    "    \n",
    "    return (w,theta);\n",
    "}"
   ]
  },
  {
   "cell_type": "markdown",
   "metadata": {},
   "source": [
    "## Entradas"
   ]
  },
  {
   "cell_type": "code",
   "execution_count": 2,
   "metadata": {
    "dotnet_interactive": {
     "language": "csharp"
    },
    "polyglot_notebook": {
     "kernelName": "csharp"
    },
    "vscode": {
     "languageId": "polyglot-notebook"
    }
   },
   "outputs": [],
   "source": [
    "// iniciando a matriz de entradas\n",
    "// lembrando que c# começa em zero por isso a variável c para corrigir o índice\n",
    "int c = 1;\n",
    "int n_linha = 4;\n",
    "int n_colunas = 2;\n",
    "double[,] x = new double[n_linha,n_colunas];\n",
    "x[1-c,1-c]=0.75;\n",
    "x[1-c,2-c]=0.75;\n",
    "x[2-c,1-c]=0.75;\n",
    "x[2-c,2-c]=0.25;\n",
    "x[3-c,1-c]=0.25;\n",
    "x[3-c,2-c]=0.75;\n",
    "x[4-c,1-c]=0.25;\n",
    "x[4-c,2-c]=0.25;\n",
    "\n",
    "\n",
    "//iniciando vetor da variável resposta\n",
    "double[] d = new double[n_linha];\n",
    "d[1-c]=0;\n",
    "d[2-c]=1;\n",
    "d[3-c]=1;\n",
    "d[4-c]=0;\n",
    "\n",
    "\n",
    "\n",
    "//delta alpha e theta iniciais\n",
    "double delta = 0.2;\n",
    "double alpha = 1;\n",
    "double theta = 0;\n",
    "\n",
    "//iniciando o vetor de pesos \n",
    "double[] w = new double[n_colunas];\n",
    "\n",
    "//lista contendo a ordem específica das entradas em cada iteração, usada para \"embaralhar\" e diversificar o treinamento\n",
    "int n_iteracoes = 6;\n",
    "int[][] ordem = new int[n_iteracoes][];\n",
    "ordem[1-c] = [1,2,3,4];\n",
    "ordem[2-c] = [1,4,3,2];\n",
    "ordem[3-c] = [4,2,3,1];\n",
    "ordem[4-c] = [1,2,3,4];\n",
    "ordem[5-c] = [1,4,3,2];\n",
    "ordem[6-c] = [4,2,3,1];"
   ]
  },
  {
   "cell_type": "markdown",
   "metadata": {},
   "source": [
    "## Treinamento"
   ]
  },
  {
   "cell_type": "code",
   "execution_count": 3,
   "metadata": {
    "dotnet_interactive": {
     "language": "csharp"
    },
    "polyglot_notebook": {
     "kernelName": "csharp"
    },
    "vscode": {
     "languageId": "polyglot-notebook"
    }
   },
   "outputs": [
    {
     "name": "stdout",
     "output_type": "stream",
     "text": [
      "Iteração:1\n",
      "Entrada:1\n",
      "x_0_0:0,75, w_0:0\n",
      "x_0_1:0,75, w_1:0\n",
      "yEstrela:0\n",
      "y:0, d:0\n",
      "Entrada:2\n",
      "x_1_0:0,75, w_0:0\n",
      "x_1_1:0,25, w_1:0\n",
      "yEstrela:0\n",
      "y:0, d:1\n",
      "w_0:0,75\n",
      "w_1:0,25\n",
      "theta:1\n",
      "Entrada:3\n",
      "x_2_0:0,25, w_0:0,75\n",
      "x_2_1:0,75, w_1:0,25\n",
      "yEstrela:1,375\n",
      "y:1, d:1\n",
      "Entrada:4\n",
      "x_3_0:0,25, w_0:0,75\n",
      "x_3_1:0,25, w_1:0,25\n",
      "yEstrela:1,25\n",
      "y:1, d:0\n",
      "w_0:0,75\n",
      "w_1:0,25\n",
      "theta:1\n",
      "Iteração:2\n",
      "Entrada:1\n",
      "x_0_0:0,75, w_0:0,75\n",
      "x_0_1:0,75, w_1:0,25\n",
      "yEstrela:1,75\n",
      "y:1, d:0\n",
      "w_0:0,75\n",
      "w_1:0,25\n",
      "theta:1\n",
      "Entrada:4\n",
      "x_3_0:0,25, w_0:0,75\n",
      "x_3_1:0,25, w_1:0,25\n",
      "yEstrela:1,25\n",
      "y:1, d:0\n",
      "w_0:0,75\n",
      "w_1:0,25\n",
      "theta:1\n",
      "Entrada:3\n",
      "x_2_0:0,25, w_0:0,75\n",
      "x_2_1:0,75, w_1:0,25\n",
      "yEstrela:1,375\n",
      "y:1, d:1\n",
      "Entrada:2\n",
      "x_1_0:0,75, w_0:0,75\n",
      "x_1_1:0,25, w_1:0,25\n",
      "yEstrela:1,625\n",
      "y:1, d:1\n",
      "Iteração:3\n",
      "Entrada:4\n",
      "x_3_0:0,25, w_0:0,75\n",
      "x_3_1:0,25, w_1:0,25\n",
      "yEstrela:1,25\n",
      "y:1, d:0\n",
      "w_0:0,75\n",
      "w_1:0,25\n",
      "theta:1\n",
      "Entrada:2\n",
      "x_1_0:0,75, w_0:0,75\n",
      "x_1_1:0,25, w_1:0,25\n",
      "yEstrela:1,625\n",
      "y:1, d:1\n",
      "Entrada:3\n",
      "x_2_0:0,25, w_0:0,75\n",
      "x_2_1:0,75, w_1:0,25\n",
      "yEstrela:1,375\n",
      "y:1, d:1\n",
      "Entrada:1\n",
      "x_0_0:0,75, w_0:0,75\n",
      "x_0_1:0,75, w_1:0,25\n",
      "yEstrela:1,75\n",
      "y:1, d:0\n",
      "w_0:0,75\n",
      "w_1:0,25\n",
      "theta:1\n",
      "Iteração:4\n",
      "Entrada:1\n",
      "x_0_0:0,75, w_0:0,75\n",
      "x_0_1:0,75, w_1:0,25\n",
      "yEstrela:1,75\n",
      "y:1, d:0\n",
      "w_0:0,75\n",
      "w_1:0,25\n",
      "theta:1\n",
      "Entrada:2\n",
      "x_1_0:0,75, w_0:0,75\n",
      "x_1_1:0,25, w_1:0,25\n",
      "yEstrela:1,625\n",
      "y:1, d:1\n",
      "Entrada:3\n",
      "x_2_0:0,25, w_0:0,75\n",
      "x_2_1:0,75, w_1:0,25\n",
      "yEstrela:1,375\n",
      "y:1, d:1\n",
      "Entrada:4\n",
      "x_3_0:0,25, w_0:0,75\n",
      "x_3_1:0,25, w_1:0,25\n",
      "yEstrela:1,25\n",
      "y:1, d:0\n",
      "w_0:0,75\n",
      "w_1:0,25\n",
      "theta:1\n",
      "Iteração:5\n",
      "Entrada:1\n",
      "x_0_0:0,75, w_0:0,75\n",
      "x_0_1:0,75, w_1:0,25\n",
      "yEstrela:1,75\n",
      "y:1, d:0\n",
      "w_0:0,75\n",
      "w_1:0,25\n",
      "theta:1\n",
      "Entrada:4\n",
      "x_3_0:0,25, w_0:0,75\n",
      "x_3_1:0,25, w_1:0,25\n",
      "yEstrela:1,25\n",
      "y:1, d:0\n",
      "w_0:0,75\n",
      "w_1:0,25\n",
      "theta:1\n",
      "Entrada:3\n",
      "x_2_0:0,25, w_0:0,75\n",
      "x_2_1:0,75, w_1:0,25\n",
      "yEstrela:1,375\n",
      "y:1, d:1\n",
      "Entrada:2\n",
      "x_1_0:0,75, w_0:0,75\n",
      "x_1_1:0,25, w_1:0,25\n",
      "yEstrela:1,625\n",
      "y:1, d:1\n",
      "Iteração:6\n",
      "Entrada:4\n",
      "x_3_0:0,25, w_0:0,75\n",
      "x_3_1:0,25, w_1:0,25\n",
      "yEstrela:1,25\n",
      "y:1, d:0\n",
      "w_0:0,75\n",
      "w_1:0,25\n",
      "theta:1\n",
      "Entrada:2\n",
      "x_1_0:0,75, w_0:0,75\n",
      "x_1_1:0,25, w_1:0,25\n",
      "yEstrela:1,625\n",
      "y:1, d:1\n",
      "Entrada:3\n",
      "x_2_0:0,25, w_0:0,75\n",
      "x_2_1:0,75, w_1:0,25\n",
      "yEstrela:1,375\n",
      "y:1, d:1\n",
      "Entrada:1\n",
      "x_0_0:0,75, w_0:0,75\n",
      "x_0_1:0,75, w_1:0,25\n",
      "yEstrela:1,75\n",
      "y:1, d:0\n",
      "w_0:0,75\n",
      "w_1:0,25\n",
      "theta:1\n",
      "Resultado: w_1:0,75 | w_2:0,25 | theta:1 | \n"
     ]
    }
   ],
   "source": [
    "//realização do treimanto passando os dados de entrada\n",
    "(double[] _w, double _theta) = Perceptron(n_iteracoes, ordem, w ,delta, alpha, theta, x, n_linha, n_colunas,d);\n",
    "\n",
    "//plotando pesos w e o theta do resultado do treinamento\n",
    "var resultado = \"\";\n",
    "for(int i =0;i<_w.Length;i++){\n",
    "    resultado += $\"w_{i+c}:{w[i]} | \";\n",
    "}\n",
    "resultado +=$\"theta:{_theta} | \";\n",
    "\n",
    "Console.WriteLine($\"Resultado: {resultado}\");"
   ]
  },
  {
   "cell_type": "markdown",
   "metadata": {},
   "source": [
    "## Teste"
   ]
  },
  {
   "cell_type": "markdown",
   "metadata": {},
   "source": [
    "### Algoritmo de Teste"
   ]
  },
  {
   "cell_type": "code",
   "execution_count": 4,
   "metadata": {
    "dotnet_interactive": {
     "language": "csharp"
    },
    "polyglot_notebook": {
     "kernelName": "csharp"
    },
    "vscode": {
     "languageId": "polyglot-notebook"
    }
   },
   "outputs": [],
   "source": [
    "public void PerceptronTeste(double[,] x_teste,double[] w_teste, double theta_teste,int n_linha_teste,int n_colunas_teste,double[] d_teste,double delta_teste ){\n",
    "\n",
    "    double yEstrela=0;\n",
    "    double y=0;\n",
    "    double n_erros=0;\n",
    "    for(int linha=0;linha<n_linha_teste;linha++){\n",
    "\n",
    "        yEstrela=0;\n",
    "        y=0;\n",
    "        \n",
    "        //calculando somatório das variáveis da entrada\n",
    "        for(int coluna=0;coluna<n_colunas_teste;coluna++){\n",
    "            Console.WriteLine($\"x_teste_{linha}_{coluna}:{x_teste[linha,coluna]}, w_teste_{coluna}:{w_teste[coluna]}\");\n",
    "            yEstrela += x_teste[linha,coluna]*w_teste[coluna];\n",
    "        }\n",
    "\n",
    "        //adicionando theta ao somatório\n",
    "        yEstrela = yEstrela + theta_teste;\n",
    "        Console.WriteLine($\"yEstrela:{yEstrela}\");\n",
    "\n",
    "        if(yEstrela>delta_teste){\n",
    "            y=1;\n",
    "        }else if(yEstrela<(-1)*delta_teste){\n",
    "            y=-1;\n",
    "        }else{\n",
    "            y=0;\n",
    "        }\n",
    "\n",
    "        Console.WriteLine($\"y:{y}, d:{d_teste[linha]}\");\n",
    "        //Somando o número de erros ou seja, y diferente de d\n",
    "        if(y!=d_teste[linha]){\n",
    "\n",
    "            n_erros++;\n",
    "        }\n",
    "    }\n",
    "\n",
    "    var erro = n_erros/(double)n_linha_teste*100;\n",
    "    Console.WriteLine($\"n_erros:{n_erros},n_linhas_teste:{n_linha_teste}, erro:{erro} %\");\n",
    "\n",
    "}"
   ]
  },
  {
   "cell_type": "code",
   "execution_count": 5,
   "metadata": {
    "dotnet_interactive": {
     "language": "csharp"
    },
    "polyglot_notebook": {
     "kernelName": "csharp"
    },
    "vscode": {
     "languageId": "polyglot-notebook"
    }
   },
   "outputs": [
    {
     "name": "stdout",
     "output_type": "stream",
     "text": [
      "x_teste_0_0:0,75, w_teste_0:0,75\n",
      "x_teste_0_1:0,75, w_teste_1:0,25\n",
      "yEstrela:1,75\n",
      "y:1, d:0\n",
      "x_teste_1_0:0,75, w_teste_0:0,75\n",
      "x_teste_1_1:0,25, w_teste_1:0,25\n",
      "yEstrela:1,625\n",
      "y:1, d:1\n",
      "x_teste_2_0:0,25, w_teste_0:0,75\n",
      "x_teste_2_1:0,75, w_teste_1:0,25\n",
      "yEstrela:1,375\n",
      "y:1, d:1\n",
      "x_teste_3_0:0,25, w_teste_0:0,75\n",
      "x_teste_3_1:0,25, w_teste_1:0,25\n",
      "yEstrela:1,25\n",
      "y:1, d:0\n",
      "n_erros:2,n_linhas_teste:4, erro:50 %\n"
     ]
    }
   ],
   "source": [
    "PerceptronTeste( x, _w, _theta,n_linha,n_colunas, d,delta)"
   ]
  },
  {
   "cell_type": "markdown",
   "metadata": {},
   "source": [
    "# Referências\n",
    "Matéria de metaheurísticas e aplicações - PPGMNE\n",
    "\n",
    "Siqueira, P.H., \"Metaheurísticas e Aplicações\". Disponível em: <https://paulohscwb.github.io/metaheuristicas/>, Janeiro de 2021.\n",
    "\n",
    "### Autor\n",
    "<a href=\"https://www.linkedin.com/in/hesauhugocavalcanti/\">Hesau Hugo</a>\n",
    "\n",
    "### Professor\n",
    "<a href=\"https://www.linkedin.com/in/paulo-henrique-siqueira-83080130/\">Paulo Henrique Siqueira</a>"
   ]
  }
 ],
 "metadata": {
  "language_info": {
   "name": "python"
  }
 },
 "nbformat": 4,
 "nbformat_minor": 2
}
